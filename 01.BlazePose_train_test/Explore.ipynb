{
 "cells": [
  {
   "cell_type": "code",
   "execution_count": 1,
   "metadata": {},
   "outputs": [],
   "source": [
    "import os\n",
    "import pathlib\n",
    "import tensorflow as tf\n",
    "from model import BlazePose\n",
    "from config import total_epoch, train_mode, best_pre_train, continue_train, batch_size, dataset"
   ]
  },
  {
   "cell_type": "code",
   "execution_count": 2,
   "metadata": {},
   "outputs": [],
   "source": [
    "loss_func_mse = tf.keras.losses.MeanSquaredError()\n",
    "loss_func_bce = tf.keras.losses.BinaryCrossentropy()\n",
    "\n",
    "model = BlazePose().call()\n",
    "optimizer = tf.keras.optimizers.Adam(learning_rate=0.001)\n",
    "model.compile(optimizer, loss=[loss_func_bce, loss_func_mse, loss_func_bce])"
   ]
  },
  {
   "cell_type": "code",
   "execution_count": 3,
   "metadata": {
    "scrolled": true
   },
   "outputs": [
    {
     "name": "stdout",
     "output_type": "stream",
     "text": [
      "Model: \"model\"\n",
      "__________________________________________________________________________________________________\n",
      " Layer (type)                   Output Shape         Param #     Connected to                     \n",
      "==================================================================================================\n",
      " input_1 (InputLayer)           [(None, 256, 256, 3  0           []                               \n",
      "                                )]                                                                \n",
      "                                                                                                  \n",
      " conv2d (Conv2D)                (None, 128, 128, 24  672         ['input_1[0][0]']                \n",
      "                                )                                                                 \n",
      "                                                                                                  \n",
      " sequential (Sequential)        (None, 128, 128, 24  840         ['conv2d[0][0]']                 \n",
      "                                )                                                                 \n",
      "                                                                                                  \n",
      " tf.__operators__.add (TFOpLamb  (None, 128, 128, 24  0          ['conv2d[0][0]',                 \n",
      " da)                            )                                 'sequential[0][0]']             \n",
      "                                                                                                  \n",
      " tf.nn.relu (TFOpLambda)        (None, 128, 128, 24  0           ['tf.__operators__.add[0][0]']   \n",
      "                                )                                                                 \n",
      "                                                                                                  \n",
      " sequential_1 (Sequential)      (None, 128, 128, 24  840         ['tf.nn.relu[0][0]']             \n",
      "                                )                                                                 \n",
      "                                                                                                  \n",
      " tf.__operators__.add_1 (TFOpLa  (None, 128, 128, 24  0          ['tf.nn.relu[0][0]',             \n",
      " mbda)                          )                                 'sequential_1[0][0]']           \n",
      "                                                                                                  \n",
      " tf.nn.relu_1 (TFOpLambda)      (None, 128, 128, 24  0           ['tf.__operators__.add_1[0][0]'] \n",
      "                                )                                                                 \n",
      "                                                                                                  \n",
      " blaze_block (BlazeBlock)       (None, 64, 64, 48)   11136       ['tf.nn.relu_1[0][0]']           \n",
      "                                                                                                  \n",
      " blaze_block_1 (BlazeBlock)     (None, 32, 32, 96)   50976       ['blaze_block[0][0]']            \n",
      "                                                                                                  \n",
      " blaze_block_2 (BlazeBlock)     (None, 16, 16, 192)  233088      ['blaze_block_1[0][0]']          \n",
      "                                                                                                  \n",
      " blaze_block_3 (BlazeBlock)     (None, 8, 8, 288)    629760      ['blaze_block_2[0][0]']          \n",
      "                                                                                                  \n",
      " sequential_28 (Sequential)     (None, 16, 16, 48)   16752       ['blaze_block_3[0][0]']          \n",
      "                                                                                                  \n",
      " sequential_29 (Sequential)     (None, 16, 16, 48)   11184       ['blaze_block_2[0][0]']          \n",
      "                                                                                                  \n",
      " tf.__operators__.add_2 (TFOpLa  (None, 16, 16, 48)  0           ['sequential_28[0][0]',          \n",
      " mbda)                                                            'sequential_29[0][0]']          \n",
      "                                                                                                  \n",
      " up_sampling2d_1 (UpSampling2D)  (None, 32, 32, 48)  0           ['tf.__operators__.add_2[0][0]'] \n",
      "                                                                                                  \n",
      " sequential_30 (Sequential)     (None, 32, 32, 48)   5616        ['blaze_block_1[0][0]']          \n",
      "                                                                                                  \n",
      " tf.__operators__.add_3 (TFOpLa  (None, 32, 32, 48)  0           ['up_sampling2d_1[0][0]',        \n",
      " mbda)                                                            'sequential_30[0][0]']          \n",
      "                                                                                                  \n",
      " up_sampling2d_2 (UpSampling2D)  (None, 64, 64, 48)  0           ['tf.__operators__.add_3[0][0]'] \n",
      "                                                                                                  \n",
      " sequential_31 (Sequential)     (None, 64, 64, 48)   2832        ['blaze_block[0][0]']            \n",
      "                                                                                                  \n",
      " tf.__operators__.add_4 (TFOpLa  (None, 64, 64, 48)  0           ['up_sampling2d_2[0][0]',        \n",
      " mbda)                                                            'sequential_31[0][0]']          \n",
      "                                                                                                  \n",
      " tf.stop_gradient (TFOpLambda)  (None, 64, 64, 48)   0           ['tf.__operators__.add_4[0][0]'] \n",
      "                                                                                                  \n",
      " tf.stop_gradient_1 (TFOpLambda  (None, 32, 32, 96)  0           ['blaze_block_1[0][0]']          \n",
      " )                                                                                                \n",
      "                                                                                                  \n",
      " blaze_block_4 (BlazeBlock)     (None, 32, 32, 96)   50976       ['tf.stop_gradient[0][0]']       \n",
      "                                                                                                  \n",
      " regression_conv12b (Sequential  (None, 32, 32, 96)  10272       ['tf.stop_gradient_1[0][0]']     \n",
      " )                                                                                                \n",
      "                                                                                                  \n",
      " tf.__operators__.add_6 (TFOpLa  (None, 32, 32, 96)  0           ['blaze_block_4[0][0]',          \n",
      " mbda)                                                            'regression_conv12b[0][0]']     \n",
      "                                                                                                  \n",
      " tf.stop_gradient_2 (TFOpLambda  (None, 16, 16, 192)  0          ['blaze_block_2[0][0]']          \n",
      " )                                                                                                \n",
      "                                                                                                  \n",
      " blaze_block_5 (BlazeBlock)     (None, 16, 16, 192)  233088      ['tf.__operators__.add_6[0][0]'] \n",
      "                                                                                                  \n",
      " regression_conv13b (Sequential  (None, 16, 16, 192)  38976      ['tf.stop_gradient_2[0][0]']     \n",
      " )                                                                                                \n",
      "                                                                                                  \n",
      " tf.__operators__.add_7 (TFOpLa  (None, 16, 16, 192)  0          ['blaze_block_5[0][0]',          \n",
      " mbda)                                                            'regression_conv13b[0][0]']     \n",
      "                                                                                                  \n",
      " tf.stop_gradient_3 (TFOpLambda  (None, 8, 8, 288)   0           ['blaze_block_3[0][0]']          \n",
      " )                                                                                                \n",
      "                                                                                                  \n",
      " sequential_32 (Sequential)     (None, 128, 128, 8)  872         ['tf.__operators__.add_4[0][0]'] \n",
      "                                                                                                  \n",
      " sequential_33 (Sequential)     (None, 128, 128, 8)  440         ['tf.nn.relu_1[0][0]']           \n",
      "                                                                                                  \n",
      " blaze_block_6 (BlazeBlock)     (None, 8, 8, 288)    629760      ['tf.__operators__.add_7[0][0]'] \n",
      "                                                                                                  \n",
      " regression_conv14b (Sequential  (None, 8, 8, 288)   86112       ['tf.stop_gradient_3[0][0]']     \n",
      " )                                                                                                \n",
      "                                                                                                  \n",
      " tf.__operators__.add_5 (TFOpLa  (None, 128, 128, 8)  0          ['sequential_32[0][0]',          \n",
      " mbda)                                                            'sequential_33[0][0]']          \n",
      "                                                                                                  \n",
      " tf.__operators__.add_8 (TFOpLa  (None, 8, 8, 288)   0           ['blaze_block_6[0][0]',          \n",
      " mbda)                                                            'regression_conv14b[0][0]']     \n",
      "                                                                                                  \n",
      " sequential_34 (Sequential)     (None, 128, 128, 14  1174        ['tf.__operators__.add_5[0][0]'] \n",
      "                                )                                                                 \n",
      "                                                                                                  \n",
      " regression_conv15 (Sequential)  (None, 2, 2, 288)   1377792     ['tf.__operators__.add_8[0][0]'] \n",
      "                                                                                                  \n",
      " tf.math.sigmoid (TFOpLambda)   (None, 128, 128, 14  0           ['sequential_34[0][0]']          \n",
      "                                )                                                                 \n",
      "                                                                                                  \n",
      " coordinates (Sequential)       (None, 14, 2)        8092        ['regression_conv15[0][0]']      \n",
      "                                                                                                  \n",
      " visibility (Sequential)        (None, 14, 1)        4046        ['regression_conv15[0][0]']      \n",
      "                                                                                                  \n",
      "==================================================================================================\n",
      "Total params: 3,405,296\n",
      "Trainable params: 3,405,296\n",
      "Non-trainable params: 0\n",
      "__________________________________________________________________________________________________\n"
     ]
    }
   ],
   "source": [
    "model.summary()"
   ]
  },
  {
   "cell_type": "code",
   "execution_count": 4,
   "metadata": {},
   "outputs": [
    {
     "data": {
      "text/plain": "<tf.Tensor: shape=(4, 2), dtype=int32, numpy=\narray([[ 0,  0],\n       [ 0,  0],\n       [ 0,  0],\n       [ 0, 24]])>"
     },
     "execution_count": 4,
     "metadata": {},
     "output_type": "execute_result"
    }
   ],
   "source": [
    "pad_shape = tf.constant([[0, 0], [0, 0], [0, 0], [0, 24]])\n",
    "pad_shape"
   ]
  },
  {
   "cell_type": "code",
   "execution_count": 5,
   "metadata": {},
   "outputs": [
    {
     "data": {
      "text/plain": "<tf.Tensor: shape=(2, 2), dtype=int32, numpy=\narray([[1, 1],\n       [2, 2]])>"
     },
     "execution_count": 5,
     "metadata": {},
     "output_type": "execute_result"
    }
   ],
   "source": [
    "paddings = tf.constant([[1, 1,], [2, 2]])\n",
    "paddings"
   ]
  },
  {
   "cell_type": "code",
   "execution_count": null,
   "metadata": {},
   "outputs": [],
   "source": []
  }
 ],
 "metadata": {
  "kernelspec": {
   "display_name": "Python 3",
   "language": "python",
   "name": "python3"
  },
  "language_info": {
   "codemirror_mode": {
    "name": "ipython",
    "version": 3
   },
   "file_extension": ".py",
   "mimetype": "text/x-python",
   "name": "python",
   "nbconvert_exporter": "python",
   "pygments_lexer": "ipython3",
   "version": "3.7.0"
  }
 },
 "nbformat": 4,
 "nbformat_minor": 4
}